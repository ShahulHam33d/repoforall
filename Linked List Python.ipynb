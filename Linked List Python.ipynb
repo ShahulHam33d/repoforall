{
 "cells": [
  {
   "attachments": {},
   "cell_type": "markdown",
   "id": "1e480d80",
   "metadata": {},
   "source": [
    "#### Write a program (preferably in C, though any programming language is okay) with the following:\n",
    "\n",
    "* Declare a linked list data structure.\n",
    "* Write a function to reverse a linked list.\n",
    "* Initialize a linked list with a few values. Print its contents before and after reversing it."
   ]
  },
  {
   "attachments": {},
   "cell_type": "markdown",
   "id": "fcd5f9b1",
   "metadata": {},
   "source": [
    "Here is the program to create linked lint using python"
   ]
  },
  {
   "cell_type": "code",
   "execution_count": 1,
   "id": "2628afb7",
   "metadata": {},
   "outputs": [],
   "source": [
    "# Linked list node class\n",
    "class Node:\n",
    "    def __init__(self, data):\n",
    "        self.data = data\n",
    "        self.next = None"
   ]
  },
  {
   "cell_type": "code",
   "execution_count": 2,
   "id": "456f0fab",
   "metadata": {},
   "outputs": [],
   "source": [
    "# Linked list class\n",
    "class LinkedList:\n",
    "    def __init__(self):\n",
    "        self.head = None\n",
    "\n",
    "    # Function to add a node at the end of the linked list\n",
    "    def append(self, data):\n",
    "        new_node = Node(data)\n",
    "        if self.head is None:\n",
    "            self.head = new_node\n",
    "        else:\n",
    "            current = self.head\n",
    "            while current.next is not None:\n",
    "                current = current.next\n",
    "            current.next = new_node\n",
    "    \n",
    "    # Function to reverse a linked list\n",
    "    def reverse_linked_list(self):\n",
    "        prev = None\n",
    "        current = self.head\n",
    "\n",
    "        while current is not None:\n",
    "            next_node = current.next\n",
    "            current.next = prev\n",
    "            prev = current\n",
    "            current = next_node\n",
    "\n",
    "        self.head = prev\n",
    "        \n",
    "    # Function to print the linked list\n",
    "    def print_list(self):\n",
    "        current = self.head\n",
    "        while current is not None:\n",
    "            print(current.data, end=\" \")\n",
    "            current = current.next\n",
    "        print()"
   ]
  },
  {
   "cell_type": "code",
   "execution_count": 3,
   "id": "c78c406d",
   "metadata": {},
   "outputs": [
    {
     "name": "stdout",
     "output_type": "stream",
     "text": [
      "Linked list before reversing:\n",
      "1 2 3 \n",
      "Linked list after reversing:\n",
      "3 2 1 \n"
     ]
    }
   ],
   "source": [
    "# Create a linked list\n",
    "linked_list = LinkedList()\n",
    "\n",
    "# Append nodes to the linked list\n",
    "linked_list.append(1)\n",
    "linked_list.append(2)\n",
    "linked_list.append(3)\n",
    "\n",
    "# Print the linked list\n",
    "print(\"Linked list before reversing:\")\n",
    "linked_list.print_list()\n",
    "\n",
    "# Reverse the linked list\n",
    "linked_list.reverse_linked_list()\n",
    "\n",
    "# Print the reversed linked list\n",
    "print(\"Linked list after reversing:\")\n",
    "linked_list.print_list()"
   ]
  }
 ],
 "metadata": {
  "kernelspec": {
   "display_name": "Python 3 (ipykernel)",
   "language": "python",
   "name": "python3"
  },
  "language_info": {
   "codemirror_mode": {
    "name": "ipython",
    "version": 3
   },
   "file_extension": ".py",
   "mimetype": "text/x-python",
   "name": "python",
   "nbconvert_exporter": "python",
   "pygments_lexer": "ipython3",
   "version": "3.10.4"
  }
 },
 "nbformat": 4,
 "nbformat_minor": 5
}
