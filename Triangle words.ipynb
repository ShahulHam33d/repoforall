{
 "cells": [
  {
   "cell_type": "markdown",
   "id": "6dfba4f2",
   "metadata": {},
   "source": [
    "#### Problem Statement:\n",
    "The nth term of the sequence of triangle numbers is given by, \n",
    " tn = 1/2*n*(n+1)\n",
    "; so the first ten triangle numbers are:\n",
    "1,3,6,10,15,21,28,36,45,55,....\n",
    "By converting each letter in a word to a number corresponding to its alphabetical position and adding these values we form a word value. For example, the word value for SKY is 19 + 11 + 25 = 55 = t10\n",
    ". If the word value is a triangle number then we shall call the word a triangle word.\n",
    "\n",
    "Using words.txt (right click and 'Save Link/Target As...'), a 16K text file containing nearly two-thousand common English words, how many are triangle words?"
   ]
  },
  {
   "cell_type": "code",
   "execution_count": 1,
   "id": "bfade008",
   "metadata": {},
   "outputs": [],
   "source": [
    "def word_number(word):\n",
    "    word = word.upper()  # Convert the word to uppercase for consistency\n",
    "    value = 0\n",
    "    for letter in word:\n",
    "        value += ord(letter) - ord('A') + 1  # Calculate the alphabetical position value\n",
    "    return value"
   ]
  },
  {
   "cell_type": "code",
   "execution_count": 2,
   "id": "21271818",
   "metadata": {},
   "outputs": [],
   "source": [
    "def triangle_word(word):\n",
    "    value = word_number(word)\n",
    "    n = 1\n",
    "    while True:\n",
    "        triangle_number = (n * (n + 1)) // 2\n",
    "        if triangle_number == value:\n",
    "            return True\n",
    "        elif triangle_number > value:\n",
    "            return False\n",
    "        n += 1"
   ]
  },
  {
   "cell_type": "code",
   "execution_count": 3,
   "id": "d655031a",
   "metadata": {},
   "outputs": [],
   "source": [
    "target_url = 'https://projecteuler.net/resources/documents/0042_words.txt'"
   ]
  },
  {
   "cell_type": "code",
   "execution_count": 4,
   "id": "088c8980",
   "metadata": {},
   "outputs": [],
   "source": [
    "import requests\n",
    "response = requests.get(target_url)\n",
    "data = response.text"
   ]
  },
  {
   "cell_type": "code",
   "execution_count": 5,
   "id": "9163216c",
   "metadata": {},
   "outputs": [],
   "source": [
    "words = list(eval(data))"
   ]
  },
  {
   "cell_type": "code",
   "execution_count": 6,
   "id": "563b5731",
   "metadata": {},
   "outputs": [
    {
     "name": "stdout",
     "output_type": "stream",
     "text": [
      "The total number of triangle words are:  162\n"
     ]
    }
   ],
   "source": [
    "count = 0\n",
    "for i in words:\n",
    "    if triangle_word(i):\n",
    "        count+=1\n",
    "        \n",
    "print(\"The total number of triangle words are: \", count)"
   ]
  },
  {
   "cell_type": "code",
   "execution_count": null,
   "id": "b023ea9d",
   "metadata": {},
   "outputs": [],
   "source": []
  }
 ],
 "metadata": {
  "kernelspec": {
   "display_name": "Python 3 (ipykernel)",
   "language": "python",
   "name": "python3"
  },
  "language_info": {
   "codemirror_mode": {
    "name": "ipython",
    "version": 3
   },
   "file_extension": ".py",
   "mimetype": "text/x-python",
   "name": "python",
   "nbconvert_exporter": "python",
   "pygments_lexer": "ipython3",
   "version": "3.9.12"
  }
 },
 "nbformat": 4,
 "nbformat_minor": 5
}
